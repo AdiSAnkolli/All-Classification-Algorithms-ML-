{
 "cells": [
  {
   "cell_type": "code",
   "execution_count": 42,
   "metadata": {},
   "outputs": [],
   "source": [
    "import pandas as pd\n",
    "import numpy as np\n",
    "import matplotlib.pyplot as plt"
   ]
  },
  {
   "cell_type": "code",
   "execution_count": 43,
   "metadata": {},
   "outputs": [],
   "source": [
    "from sklearn.datasets import load_wine\n",
    "dataset = load_wine()"
   ]
  },
  {
   "cell_type": "code",
   "execution_count": 44,
   "metadata": {},
   "outputs": [
    {
     "data": {
      "text/plain": [
       "array(['class_0', 'class_1', 'class_2'], dtype='<U7')"
      ]
     },
     "execution_count": 44,
     "metadata": {},
     "output_type": "execute_result"
    }
   ],
   "source": [
    "dataset.target_names"
   ]
  },
  {
   "cell_type": "code",
   "execution_count": 45,
   "metadata": {},
   "outputs": [
    {
     "data": {
      "text/plain": [
       "['alcohol',\n",
       " 'malic_acid',\n",
       " 'ash',\n",
       " 'alcalinity_of_ash',\n",
       " 'magnesium',\n",
       " 'total_phenols',\n",
       " 'flavanoids',\n",
       " 'nonflavanoid_phenols',\n",
       " 'proanthocyanins',\n",
       " 'color_intensity',\n",
       " 'hue',\n",
       " 'od280/od315_of_diluted_wines',\n",
       " 'proline']"
      ]
     },
     "execution_count": 45,
     "metadata": {},
     "output_type": "execute_result"
    }
   ],
   "source": [
    "dataset.feature_names"
   ]
  },
  {
   "cell_type": "code",
   "execution_count": 46,
   "metadata": {},
   "outputs": [
    {
     "data": {
      "text/plain": [
       "array([[1.423e+01, 1.710e+00, 2.430e+00, ..., 1.040e+00, 3.920e+00,\n",
       "        1.065e+03],\n",
       "       [1.320e+01, 1.780e+00, 2.140e+00, ..., 1.050e+00, 3.400e+00,\n",
       "        1.050e+03],\n",
       "       [1.316e+01, 2.360e+00, 2.670e+00, ..., 1.030e+00, 3.170e+00,\n",
       "        1.185e+03],\n",
       "       ...,\n",
       "       [1.327e+01, 4.280e+00, 2.260e+00, ..., 5.900e-01, 1.560e+00,\n",
       "        8.350e+02],\n",
       "       [1.317e+01, 2.590e+00, 2.370e+00, ..., 6.000e-01, 1.620e+00,\n",
       "        8.400e+02],\n",
       "       [1.413e+01, 4.100e+00, 2.740e+00, ..., 6.100e-01, 1.600e+00,\n",
       "        5.600e+02]])"
      ]
     },
     "execution_count": 46,
     "metadata": {},
     "output_type": "execute_result"
    }
   ],
   "source": [
    "dataset.data"
   ]
  },
  {
   "cell_type": "code",
   "execution_count": 7,
   "metadata": {},
   "outputs": [
    {
     "data": {
      "text/plain": [
       "array([0, 1, 2])"
      ]
     },
     "execution_count": 7,
     "metadata": {},
     "output_type": "execute_result"
    }
   ],
   "source": []
  },
  {
   "cell_type": "code",
   "execution_count": 47,
   "metadata": {},
   "outputs": [],
   "source": [
    "X = dataset.data\n",
    "Y = dataset.target\n"
   ]
  },
  {
   "cell_type": "code",
   "execution_count": 48,
   "metadata": {},
   "outputs": [],
   "source": [
    "from sklearn.model_selection import train_test_split\n",
    "X_train, X_test, Y_train, Y_test = train_test_split(X, Y, test_size = 0.3, random_state = 0)"
   ]
  },
  {
   "cell_type": "code",
   "execution_count": 49,
   "metadata": {},
   "outputs": [
    {
     "data": {
      "text/plain": [
       "DecisionTreeClassifier(class_weight=None, criterion='entropy', max_depth=None,\n",
       "                       max_features=None, max_leaf_nodes=None,\n",
       "                       min_impurity_decrease=0.0, min_impurity_split=None,\n",
       "                       min_samples_leaf=1, min_samples_split=2,\n",
       "                       min_weight_fraction_leaf=0.0, presort=False,\n",
       "                       random_state=0, splitter='best')"
      ]
     },
     "execution_count": 49,
     "metadata": {},
     "output_type": "execute_result"
    }
   ],
   "source": [
    "from sklearn.tree import DecisionTreeClassifier\n",
    "model = DecisionTreeClassifier(criterion = 'entropy', splitter = 'best', random_state = 0)\n",
    "model.fit(X_train, Y_train)"
   ]
  },
  {
   "cell_type": "code",
   "execution_count": 52,
   "metadata": {},
   "outputs": [],
   "source": [
    "Y_pred = model.predict(X_test)"
   ]
  },
  {
   "cell_type": "code",
   "execution_count": 53,
   "metadata": {},
   "outputs": [
    {
     "data": {
      "text/plain": [
       "array([[18,  1,  0],\n",
       "       [ 1, 20,  1],\n",
       "       [ 0,  0, 13]], dtype=int64)"
      ]
     },
     "execution_count": 53,
     "metadata": {},
     "output_type": "execute_result"
    }
   ],
   "source": [
    "from sklearn.metrics import confusion_matrix\n",
    "cm = confusion_matrix(Y_test, Y_pred)\n",
    "cm"
   ]
  },
  {
   "cell_type": "code",
   "execution_count": 54,
   "metadata": {},
   "outputs": [
    {
     "data": {
      "text/plain": [
       "0.9444444444444444"
      ]
     },
     "execution_count": 54,
     "metadata": {},
     "output_type": "execute_result"
    }
   ],
   "source": [
    "model.score(X_test, Y_test)"
   ]
  },
  {
   "cell_type": "code",
   "execution_count": 56,
   "metadata": {},
   "outputs": [
    {
     "data": {
      "text/plain": [
       "'C:\\\\Users\\\\IBM'"
      ]
     },
     "execution_count": 56,
     "metadata": {},
     "output_type": "execute_result"
    }
   ],
   "source": [
    "pwd\n"
   ]
  },
  {
   "cell_type": "code",
   "execution_count": 57,
   "metadata": {},
   "outputs": [
    {
     "name": "stdout",
     "output_type": "stream",
     "text": [
      " Volume in drive C has no label.\n",
      " Volume Serial Number is 30CA-0F0B\n",
      "\n",
      " Directory of C:\\Users\\IBM\n",
      "\n",
      "01/02/2020  12:31 PM    <DIR>          .\n",
      "01/02/2020  12:31 PM    <DIR>          ..\n",
      "11/05/2019  01:39 PM    <DIR>          .anaconda\n",
      "12/07/2019  11:25 AM    <DIR>          .appsb\n",
      "12/24/2019  10:29 AM    <DIR>          .conda\n",
      "12/24/2019  09:23 AM                43 .condarc\n",
      "01/01/2019  10:19 AM    <DIR>          .eclipse\n",
      "11/05/2019  03:33 PM            23,801 .ipynb\n",
      "01/02/2020  11:32 AM    <DIR>          .ipynb_checkpoints\n",
      "11/04/2019  01:44 PM    <DIR>          .ipython\n",
      "11/08/2019  01:51 PM    <DIR>          .jupyter\n",
      "11/08/2019  01:52 PM    <DIR>          .matplotlib\n",
      "01/01/2019  05:46 AM    <DIR>          .p2\n",
      "10/04/2019  03:16 PM    <DIR>          .RapidMiner\n",
      "12/07/2019  11:26 AM    <DIR>          .swt\n",
      "01/01/2019  10:37 AM    <DIR>          .tooling\n",
      "11/14/2019  10:31 AM           790,245 1st.py.ipynb\n",
      "12/18/2019  10:39 AM             6,638 21.ipynb\n",
      "11/27/2019  11:11 AM           442,778 AAK.ipynb\n",
      "11/27/2019  11:17 AM           175,987 AAKRITI.ipynb\n",
      "11/19/2019  08:54 AM         3,974,305 adult.data\n",
      "12/18/2019  12:49 PM             8,636 ak-apriori-dwdm3.ipynb\n",
      "11/21/2019  12:47 PM           347,256 amit.ipynb\n",
      "11/28/2019  10:29 AM    <DIR>          Anaconda3\n",
      "12/18/2019  10:31 AM             5,899 ap.ipynb\n",
      "12/18/2019  10:39 AM             6,638 apri.ipynb\n",
      "11/05/2019  03:30 PM            23,801 as1.py\n",
      "11/27/2019  12:49 PM            25,261 ASSIGNMENT2-AAKRITI.ipynb\n",
      "11/20/2019  12:49 PM           197,826 astha.ipynb\n",
      "11/13/2019  10:16 AM            81,197 auditt.csv\n",
      "11/27/2019  12:06 PM         5,876,725 combined_csv.csv\n",
      "01/01/2019  10:56 AM    <DIR>          Contacts\n",
      "11/14/2019  12:34 PM               228 D.csv\n",
      "11/11/2019  02:35 PM            41,410 Data Warehousing.ipynb\n",
      "11/14/2019  12:04 PM               226 Data.csv\n",
      "12/24/2019  09:32 AM               475 data_dt.csv\n",
      "12/23/2019  09:08 AM               555 data_set.csv\n",
      "11/13/2019  10:06 AM           282,886 datapreprocess.ipynb\n",
      "12/23/2019  09:19 AM               467 dataset.csv\n",
      "12/20/2013  12:10 PM            57,569 day.csv\n",
      "01/02/2020  12:07 PM    <DIR>          Desktop\n",
      "11/25/2019  11:38 AM           357,858 diamonds.csv\n",
      "12/19/2019  02:03 PM    <DIR>          Documents\n",
      "01/02/2020  12:32 PM    <DIR>          Downloads\n",
      "11/11/2019  03:12 PM            28,060 DWDM Assignment 1.ipynb\n",
      "01/01/2019  10:19 AM    <DIR>          eclipse-workspace\n",
      "01/01/2019  10:56 AM    <DIR>          Favorites\n",
      "11/21/2019  12:05 PM             1,273 heat_pearson.png\n",
      "11/27/2019  12:48 PM             1,273 heatmap_pearson.png\n",
      "12/20/2013  12:10 PM         1,156,736 hour.csv\n",
      "11/12/2019  10:23 AM           192,733 jass1.ipynb\n",
      "11/19/2019  10:32 AM           266,996 jass2.ipynb\n",
      "12/08/2019  07:37 AM           816,128 keymapping.exe\n",
      "11/19/2019  03:24 PM           167,428 Lab1.ipynb\n",
      "11/25/2019  12:47 PM            68,086 lab1preprocessing.ipynb\n",
      "11/25/2019  12:35 PM         5,251,646 lad.csv\n",
      "01/01/2019  10:56 AM    <DIR>          Links\n",
      "01/01/2019  10:56 AM    <DIR>          Music\n",
      "11/07/2019  12:35 PM           181,490 newnotebook.ipynb\n",
      "11/21/2019  09:38 AM    <DIR>          OneDrive\n",
      "11/13/2019  09:25 AM           160,446 oshajfbedn.csv\n",
      "11/26/2019  11:40 AM    <DIR>          Pictures\n",
      "11/07/2019  03:36 PM            14,918 pp.ipynb\n",
      "11/13/2019  10:32 AM            85,779 prac2.ipynb\n",
      "11/21/2019  09:59 AM           162,944 Preprocessing_Reduction.ipynb\n",
      "12/20/2013  01:29 PM             5,607 Readme.txt\n",
      "11/20/2019  10:35 AM           106,168 s1.ipynb\n",
      "11/05/2019  02:28 PM             5,637 sakshi.py\n",
      "12/23/2019  02:58 PM             2,234 samiksha.ipynb\n",
      "01/01/2019  10:56 AM    <DIR>          Saved Games\n",
      "11/11/2019  03:21 PM    <DIR>          seaborn-data\n",
      "01/01/2019  10:56 AM    <DIR>          Searches\n",
      "11/19/2019  11:37 AM             1,567 tan2.ipynb\n",
      "12/19/2019  03:02 PM         3,031,040 turnstile_181117.txt\n",
      "12/19/2019  03:02 PM        26,032,713 turnstile_181124.txt\n",
      "12/19/2019  03:02 PM        26,115,374 turnstile_181201.txt\n",
      "12/19/2019  03:02 PM        26,411,303 turnstile_181208.txt\n",
      "12/19/2019  03:01 PM        26,313,053 turnstile_181215.txt\n",
      "12/19/2019  03:01 PM        26,325,236 turnstile_181222.txt\n",
      "12/19/2019  03:01 PM        26,353,925 turnstile_181229.txt\n",
      "12/19/2019  03:01 PM        26,410,124 turnstile_190105.txt\n",
      "12/19/2019  03:01 PM        26,342,921 turnstile_190112.txt\n",
      "12/19/2019  03:00 PM        26,819,368 turnstile_190119.txt\n",
      "12/19/2019  03:00 PM        26,409,600 turnstile_190126.txt\n",
      "12/19/2019  03:00 PM        26,581,603 turnstile_190202.txt\n",
      "12/19/2019  03:00 PM        26,558,416 turnstile_190209.txt\n",
      "12/19/2019  03:00 PM        26,820,678 turnstile_190216.txt\n",
      "12/19/2019  03:00 PM        26,731,336 turnstile_190223.txt\n",
      "12/19/2019  03:00 PM        26,617,890 turnstile_190302.txt\n",
      "12/19/2019  03:00 PM        26,722,428 turnstile_190309.txt\n",
      "12/19/2019  02:59 PM        26,434,883 turnstile_190316.txt\n",
      "12/19/2019  02:59 PM        26,556,713 turnstile_190323.txt\n",
      "12/19/2019  02:59 PM        26,802,076 turnstile_190330.txt\n",
      "12/19/2019  02:59 PM        26,588,415 turnstile_190406.txt\n",
      "12/19/2019  02:59 PM        26,817,272 turnstile_190413.txt\n",
      "12/19/2019  02:59 PM        26,533,788 turnstile_190420.txt\n",
      "12/19/2019  02:59 PM        26,705,398 turnstile_190427.txt\n",
      "12/19/2019  02:59 PM        27,098,398 turnstile_190504.txt\n",
      "12/19/2019  02:59 PM        26,735,659 turnstile_190511.txt\n",
      "12/19/2019  02:58 PM        27,337,342 turnstile_190518.txt\n",
      "12/19/2019  02:58 PM        26,640,684 turnstile_190525.txt\n",
      "12/19/2019  02:58 PM        26,697,276 turnstile_190601.txt\n",
      "12/19/2019  02:58 PM        26,856,572 turnstile_190608.txt\n",
      "12/19/2019  02:58 PM        26,846,485 turnstile_190615.txt\n",
      "12/19/2019  02:58 PM        27,179,618 turnstile_190622.txt\n",
      "12/19/2019  02:58 PM        26,981,284 turnstile_190629.txt\n",
      "12/19/2019  02:58 PM        27,449,609 turnstile_190706.txt\n",
      "12/19/2019  02:58 PM        27,352,538 turnstile_190713.txt\n",
      "12/19/2019  02:57 PM        27,379,917 turnstile_190720.txt\n",
      "12/19/2019  02:57 PM        27,055,561 turnstile_190727.txt\n",
      "12/19/2019  02:57 PM        27,116,607 turnstile_190803.txt\n",
      "12/19/2019  02:57 PM        26,969,756 turnstile_190810.txt\n",
      "12/19/2019  02:57 PM        27,322,277 turnstile_190817.txt\n",
      "12/19/2019  02:56 PM        26,942,770 turnstile_190824.txt\n",
      "12/19/2019  02:56 PM        26,889,584 turnstile_190831.txt\n",
      "12/19/2019  02:56 PM        26,828,276 turnstile_190907.txt\n",
      "12/19/2019  02:56 PM        26,931,766 turnstile_190914.txt\n",
      "12/19/2019  02:56 PM        26,845,699 turnstile_190921.txt\n",
      "12/19/2019  02:56 PM        26,899,147 turnstile_190928.txt\n",
      "12/19/2019  02:56 PM        27,065,124 turnstile_191005.txt\n",
      "12/19/2019  02:56 PM        27,098,660 turnstile_191012.txt\n",
      "12/19/2019  02:55 PM        27,093,420 turnstile_191019.txt\n",
      "12/19/2019  02:55 PM        26,933,076 turnstile_191026.txt\n",
      "12/19/2019  02:55 PM        26,992,157 turnstile_191102.txt\n",
      "12/19/2019  02:55 PM        27,197,827 turnstile_191109.txt\n",
      "12/19/2019  02:55 PM        26,852,904 turnstile_191116.txt\n",
      "12/19/2019  02:55 PM        26,924,823 turnstile_191123.txt\n",
      "12/19/2019  02:55 PM        26,926,395 turnstile_191130.txt\n",
      "12/19/2019  02:55 PM        26,976,175 turnstile_191207.txt\n",
      "11/05/2019  02:16 PM             4,732 Untitled.ipynb\n",
      "11/05/2019  02:34 PM                72 Untitled1.ipynb\n",
      "11/15/2019  11:11 AM               555 Untitled10.ipynb\n",
      "11/18/2019  03:27 PM           105,228 Untitled11.ipynb\n",
      "11/19/2019  10:28 AM           266,996 Untitled12.ipynb\n",
      "11/19/2019  03:20 PM           167,428 Untitled13.ipynb\n",
      "11/20/2019  09:25 AM               580 Untitled14.ipynb\n",
      "11/20/2019  10:09 AM            65,547 Untitled15.ipynb\n",
      "11/20/2019  12:17 PM           143,420 Untitled16.ipynb\n",
      "11/21/2019  10:26 AM           336,172 Untitled17.ipynb\n",
      "11/21/2019  12:47 PM           347,256 Untitled18.ipynb\n",
      "11/25/2019  12:43 PM            68,086 Untitled19.ipynb\n",
      "11/07/2019  12:34 PM           181,490 Untitled2.ipynb\n",
      "11/27/2019  10:49 AM               555 Untitled20.ipynb\n",
      "11/27/2019  11:11 AM                72 Untitled21.ipynb\n",
      "12/05/2019  10:44 AM               555 Untitled22.ipynb\n",
      "12/16/2019  11:02 AM               555 Untitled23.ipynb\n",
      "12/17/2019  10:24 AM             3,129 Untitled24.ipynb\n",
      "12/18/2019  10:31 AM             5,899 Untitled25.ipynb\n",
      "12/18/2019  11:59 AM             2,500 Untitled26.ipynb\n",
      "12/19/2019  12:34 PM             1,602 Untitled27.ipynb\n",
      "12/19/2019  12:32 PM               573 Untitled28.ipynb\n",
      "12/19/2019  12:45 PM             1,592 Untitled29.ipynb\n",
      "11/07/2019  03:36 PM            14,918 Untitled3.ipynb\n",
      "12/19/2019  03:02 PM             2,981 Untitled30.ipynb\n",
      "12/20/2019  09:34 AM             7,617 Untitled31.ipynb\n",
      "12/20/2019  12:48 PM            23,617 Untitled32.ipynb\n",
      "12/23/2019  09:08 AM               555 Untitled33.ipynb\n",
      "12/23/2019  10:07 AM            10,657 Untitled34.ipynb\n",
      "12/23/2019  12:07 PM             7,077 Untitled35.ipynb\n",
      "12/23/2019  11:31 AM                72 Untitled36.ipynb\n",
      "12/23/2019  02:58 PM             2,234 Untitled37.ipynb\n",
      "12/24/2019  10:23 AM            13,730 Untitled38.ipynb\n",
      "01/02/2020  12:31 PM             5,940 Untitled39.ipynb\n",
      "11/08/2019  12:53 PM            10,015 Untitled4.ipynb\n",
      "01/02/2020  12:27 PM            59,024 Untitled40.ipynb\n",
      "11/11/2019  11:31 AM             1,078 Untitled5.ipynb\n",
      "11/12/2019  09:02 AM               555 Untitled6.ipynb\n",
      "11/13/2019  09:18 AM               731 Untitled7.ipynb\n",
      "11/13/2019  09:19 AM               555 Untitled8.ipynb\n",
      "11/14/2019  12:48 PM            43,706 Untitled9.ipynb\n",
      "01/01/2019  10:56 AM    <DIR>          Videos\n",
      "12/26/2018  10:57 PM    <DIR>          workspace\n",
      "11/14/2019  11:46 AM           160,344 WorldCupMatches_new.csv\n",
      "             143 File(s)  1,500,928,798 bytes\n",
      "              30 Dir(s)   7,337,951,232 bytes free\n"
     ]
    }
   ],
   "source": [
    "ls"
   ]
  },
  {
   "cell_type": "code",
   "execution_count": null,
   "metadata": {},
   "outputs": [],
   "source": []
  }
 ],
 "metadata": {
  "kernelspec": {
   "display_name": "Python 3",
   "language": "python",
   "name": "python3"
  },
  "language_info": {
   "codemirror_mode": {
    "name": "ipython",
    "version": 3
   },
   "file_extension": ".py",
   "mimetype": "text/x-python",
   "name": "python",
   "nbconvert_exporter": "python",
   "pygments_lexer": "ipython3",
   "version": "3.7.3"
  }
 },
 "nbformat": 4,
 "nbformat_minor": 2
}
